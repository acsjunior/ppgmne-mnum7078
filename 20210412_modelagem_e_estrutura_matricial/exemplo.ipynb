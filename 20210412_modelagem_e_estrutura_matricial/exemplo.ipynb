{
 "cells": [
  {
   "cell_type": "markdown",
   "id": "architectural-fourth",
   "metadata": {},
   "source": [
    "# Exemplo 2.3 (Pesquisa Operacional para Cursos de Engenharia - Belfiore & Fávero)\n",
    "\n",
    "https://github.com/juniorssz/ppgmne-mnum7078\n",
    "\n",
    "A empresa Venix de brinquedos está revendo seu planejamento de produção de carrinhos e triciclos. O lucro líquido por unidade de carrinho e triciclo produzido é de $\\text{R\\$} 12,00$ e $\\text{R\\$} 60,00$, respectivamente. As matérias-primas e os insumos necessários para a fabricação de cada um dos produtos são terceirizados, cabendo à empresa os processos de usinagem, pintura e montagem. O processo de usinagem requer 15 minutos de mão de obra especializada por unidade de carrinho e 30 minutos por unidade de triciclo produzida. O processo de pintura requer 6 minutos de mão de obra especializada por unidade de carrinho e 45 minutos por unidade de triciclo produzida. Já o processo de montagem necessita de 6 minutos e 24 minutos para uma unidade de carrinho e de triciclo produzida, respectivamente. O tempo disponível por semana é de 36, 22 e 15 horas para os processos de usinagem, pintura e montagem, respectivamente. A empresa quer determinar quanto produzir de cada produto por semana, respeitando as limitações de recursos, de forma a maximizar o lucro líquido semanal. Formular o problema de programação linear que maximiza o lucro líquido da empresa Venix."
   ]
  },
  {
   "cell_type": "markdown",
   "id": "alpine-spouse",
   "metadata": {},
   "source": [
    "## Formulação do modelo\n",
    "\n",
    "\n",
    "### Variáveis de decisão:\n",
    "\n",
    "$x_1 = \\text{quantidade de carrinhos a ser fabricada por semana}$\n",
    "\n",
    "$x_2 = \\text{quantidade de triciclos a ser fabricada por semana}$\n",
    "\n",
    "### Função objetivo:\n",
    "\n",
    "$\\text{max }z = 12x_1 + 60x_2$\n",
    "\n",
    "### Sujeito a:\n",
    "\n",
    "$0,25x_1 + 0,5x_2 \\leq 36$\n",
    "\n",
    "$0,1x_1 + 0,75x_2 \\leq 22$\n",
    "\n",
    "$0,1x_1 + 0,4x_2 \\leq 15$\n",
    "\n",
    "$x_1, x_2 \\geq 0$"
   ]
  },
  {
   "cell_type": "markdown",
   "id": "aging-horizontal",
   "metadata": {},
   "source": [
    "<br>\n",
    "\n",
    "## Forma genérica\n",
    "\n",
    "\n",
    "### Índices:\n",
    "\n",
    "$i = 1,2,3$\n",
    "\n",
    "$j = 1,2$\n",
    "\n",
    "\n",
    "### Parâmetros do modelo:\n",
    "\n",
    "$aij = \\text{Quantidade de horas necessárias para a realização da atividade } i \\text{ na fabricação do produto } j$\n",
    "\n",
    "$b_i = \\text{Quantidade de horas disponíveis para realização da atividade } i$\n",
    "\n",
    "$c_j = \\text{Lucro líquido por unidade do produto } j \\text{ produzido}$ \n",
    "\n",
    "\n",
    "### Variáveis de decisão\n",
    "\n",
    "$x_j = \\text{quantidade a ser fabricada do produto } j \\text{ por semana}$\n",
    "\n",
    "\n",
    "### Função objetivo\n",
    "\n",
    "$\\text{max }z = \\sum\\limits_{j=1}^{n} c_j x_{j}$\n",
    "\n",
    "### Sujeito a:\n",
    "\n",
    "$\\sum\\limits_{j=1}^{n} a_{ij} x_{j} \\leq b_{i}, \\forall \\; i$\n",
    "\n",
    "$x_{j} \\geq 0$\n"
   ]
  },
  {
   "cell_type": "code",
   "execution_count": 1,
   "id": "alternative-hindu",
   "metadata": {},
   "outputs": [],
   "source": [
    "import pyomo.environ as pyo"
   ]
  },
  {
   "cell_type": "code",
   "execution_count": 2,
   "id": "environmental-mortgage",
   "metadata": {},
   "outputs": [],
   "source": [
    "# Dados de entrada (parâmetros):\n",
    "\n",
    "A = [[0.25, 0.5], \n",
    "     [0.1, 0.75], \n",
    "     [0.1, 0.4]]\n",
    "\n",
    "B = [36, 22, 15]\n",
    "\n",
    "C = [12, 60]"
   ]
  },
  {
   "cell_type": "code",
   "execution_count": 3,
   "id": "balanced-martial",
   "metadata": {},
   "outputs": [],
   "source": [
    "# Declaração do modelo:\n",
    "modelo =pyo.ConcreteModel()\n",
    "\n",
    "\n",
    "# Definição dos índices:\n",
    "modelo.I = range(len(B))\n",
    "modelo.J = range(len(C))\n",
    "\n",
    "\n",
    "# Entrada dos parâmetros:\n",
    "modelo.A = pyo.Param(modelo.I, modelo.J, initialize=lambda modelo, i, j: A[i][j])\n",
    "modelo.B = pyo.Param(modelo.I, initialize=lambda modelo, i: B[i])\n",
    "modelo.C = pyo.Param(modelo.J, initialize=lambda modelo, j: C[j])\n",
    "\n",
    "\n",
    "# Variáveis de decisão:\n",
    "modelo.X = pyo.Var(modelo.J, within=pyo.NonNegativeReals)\n",
    "\n",
    "\n",
    "# Função objetivo:\n",
    "def f_obj(modelo):\n",
    "    return pyo.summation(modelo.C, modelo.X)\n",
    "\n",
    "modelo.obj = pyo.Objective(rule=f_obj, sense=pyo.maximize)\n",
    "\n",
    "# Sujeito a:\n",
    "def f_constr(modelo, i):\n",
    "    return sum(modelo.A[i,j] * modelo.X[j] for j in modelo.J) <= modelo.B[i]\n",
    "\n",
    "modelo.restricoes = pyo.Constraint(modelo.I, rule=f_constr)"
   ]
  },
  {
   "cell_type": "code",
   "execution_count": 4,
   "id": "spectacular-sister",
   "metadata": {},
   "outputs": [
    {
     "name": "stdout",
     "output_type": "stream",
     "text": [
      "Academic license - for non-commercial use only - expires 2021-06-07\n",
      "Using license file /Users/acsjunior/gurobi.lic\n"
     ]
    }
   ],
   "source": [
    "# Resolução através do Gurobi:\n",
    "resultado = pyo.SolverFactory('gurobi', solver_io=\"python\").solve(modelo)"
   ]
  },
  {
   "cell_type": "code",
   "execution_count": 5,
   "id": "major-cleanup",
   "metadata": {},
   "outputs": [
    {
     "name": "stdout",
     "output_type": "stream",
     "text": [
      "\n",
      "Problem: \n",
      "- Name: unknown\n",
      "  Lower bound: 2040.0\n",
      "  Upper bound: 2040.0\n",
      "  Number of objectives: 1\n",
      "  Number of constraints: 3\n",
      "  Number of variables: 2\n",
      "  Number of binary variables: 0\n",
      "  Number of integer variables: 0\n",
      "  Number of continuous variables: 2\n",
      "  Number of nonzeros: 6\n",
      "  Sense: -1\n",
      "  Number of solutions: 1\n",
      "Solver: \n",
      "- Name: Gurobi 9.11\n",
      "  Status: ok\n",
      "  Wallclock time: 0.008764982223510742\n",
      "  Termination condition: optimal\n",
      "  Termination message: Model was solved to optimality (subject to tolerances), and an optimal solution is available.\n",
      "Solution: \n",
      "- number of solutions: 0\n",
      "  number of solutions displayed: 0\n",
      "\n"
     ]
    }
   ],
   "source": [
    "print(resultado)"
   ]
  },
  {
   "cell_type": "code",
   "execution_count": null,
   "id": "initial-extra",
   "metadata": {},
   "outputs": [],
   "source": [
    "# Variáveis de decisão:\n",
    "\n",
    "l = list(modelo.X.keys())\n",
    "for i in l:\n",
    "    print(\"x\" + str(i+1),'=', modelo.X[i]())"
   ]
  },
  {
   "cell_type": "code",
   "execution_count": null,
   "id": "brown-vampire",
   "metadata": {},
   "outputs": [],
   "source": [
    "# Função objetivo:\n",
    "\n",
    "modelo.obj()"
   ]
  },
  {
   "cell_type": "markdown",
   "id": "intense-sleeve",
   "metadata": {},
   "source": [
    "## Resultado:\n",
    "\n",
    "$\\text{max }z = 12x_1 + 60x_2$\n",
    "\n",
    "$x_1 = 70$\n",
    "\n",
    "$x_2 = 20$\n",
    "\n",
    "$z = 2040$"
   ]
  },
  {
   "cell_type": "code",
   "execution_count": null,
   "id": "prescription-naples",
   "metadata": {},
   "outputs": [],
   "source": [
    "from datetime import date, timedelta"
   ]
  },
  {
   "cell_type": "code",
   "execution_count": null,
   "id": "patent-account",
   "metadata": {},
   "outputs": [],
   "source": [
    "date.today()- timedelta(days=4)"
   ]
  },
  {
   "cell_type": "code",
   "execution_count": null,
   "id": "about-friday",
   "metadata": {},
   "outputs": [],
   "source": []
  }
 ],
 "metadata": {
  "kernelspec": {
   "display_name": "Python 3",
   "language": "python",
   "name": "python3"
  },
  "language_info": {
   "codemirror_mode": {
    "name": "ipython",
    "version": 3
   },
   "file_extension": ".py",
   "mimetype": "text/x-python",
   "name": "python",
   "nbconvert_exporter": "python",
   "pygments_lexer": "ipython3",
   "version": "3.8.5"
  }
 },
 "nbformat": 4,
 "nbformat_minor": 5
}
