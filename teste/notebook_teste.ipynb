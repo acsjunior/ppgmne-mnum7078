{
 "cells": [
  {
   "cell_type": "code",
   "execution_count": 1,
   "metadata": {},
   "outputs": [],
   "source": [
    "import pyomo.environ as pyEnv"
   ]
  },
  {
   "cell_type": "code",
   "execution_count": 2,
   "metadata": {},
   "outputs": [],
   "source": [
    "lucros = [92 ,57 ,49 ,68 ,60 ,43 ,67 ,84 ,87 ,72]\n",
    "pesos = [23 ,31 ,29 ,44 ,53 ,38 ,63 ,85 ,89 ,82]\n",
    "capacidade = 165\n",
    "m = len(lucros)"
   ]
  },
  {
   "cell_type": "code",
   "execution_count": 3,
   "metadata": {},
   "outputs": [],
   "source": [
    "# Declaração do modelo:\n",
    "modelo = pyEnv.ConcreteModel()\n",
    "\n",
    "# Índice:\n",
    "modelo.I = range(m)\n",
    "\n",
    "# Variáveis de decisão:\n",
    "modelo.x = pyEnv.Var(modelo.I, within=pyEnv.Binary)\n",
    "\n",
    "# Função objetivo:\n",
    "modelo.objetivo = pyEnv.Objective(\n",
    "    expr = sum(lucros[i]*modelo.x[i] for i in modelo.I),\n",
    "    sense = pyEnv.maximize)\n",
    "\n",
    "# Restições:\n",
    "modelo.rest = pyEnv.Constraint(\n",
    "    expr = sum(pesos[i]*modelo.x[i] for i in modelo.I) <= capacidade)"
   ]
  },
  {
   "cell_type": "code",
   "execution_count": 4,
   "metadata": {},
   "outputs": [
    {
     "name": "stdout",
     "output_type": "stream",
     "text": [
      "\n",
      "Problem: \n",
      "- Name: unknown\n",
      "  Lower bound: 309.0\n",
      "  Upper bound: 309.0\n",
      "  Number of objectives: 1\n",
      "  Number of constraints: 2\n",
      "  Number of variables: 11\n",
      "  Number of nonzeros: 11\n",
      "  Sense: maximize\n",
      "Solver: \n",
      "- Status: ok\n",
      "  Termination condition: optimal\n",
      "  Statistics: \n",
      "    Branch and bound: \n",
      "      Number of bounded subproblems: 3\n",
      "      Number of created subproblems: 3\n",
      "  Error rc: 0\n",
      "  Time: 0.03877902030944824\n",
      "Solution: \n",
      "- number of solutions: 0\n",
      "  number of solutions displayed: 0\n",
      "\n"
     ]
    }
   ],
   "source": [
    "# Resolução:\n",
    "resultado = pyEnv.SolverFactory('glpk').solve(modelo)\n",
    "print(resultado)"
   ]
  },
  {
   "cell_type": "code",
   "execution_count": 5,
   "metadata": {
    "scrolled": true
   },
   "outputs": [
    {
     "name": "stdout",
     "output_type": "stream",
     "text": [
      "0 --- 1.0\n",
      "1 --- 1.0\n",
      "2 --- 1.0\n",
      "3 --- 1.0\n",
      "4 --- 0.0\n",
      "5 --- 1.0\n",
      "6 --- 0.0\n",
      "7 --- 0.0\n",
      "8 --- 0.0\n",
      "9 --- 0.0\n"
     ]
    }
   ],
   "source": [
    "lista = list(modelo.x.keys())\n",
    "\n",
    "for i in lista:\n",
    "    print(i, \"---\", modelo.x[i]())"
   ]
  },
  {
   "cell_type": "code",
   "execution_count": 6,
   "metadata": {},
   "outputs": [
    {
     "name": "stdout",
     "output_type": "stream",
     "text": [
      "Função objetivo: 309.0\n"
     ]
    }
   ],
   "source": [
    "print('Função objetivo:', modelo.objetivo())"
   ]
  },
  {
   "cell_type": "code",
   "execution_count": null,
   "metadata": {},
   "outputs": [],
   "source": []
  }
 ],
 "metadata": {
  "kernelspec": {
   "display_name": "Python 3",
   "language": "python",
   "name": "python3"
  },
  "language_info": {
   "codemirror_mode": {
    "name": "ipython",
    "version": 3
   },
   "file_extension": ".py",
   "mimetype": "text/x-python",
   "name": "python",
   "nbconvert_exporter": "python",
   "pygments_lexer": "ipython3",
   "version": "3.8.5"
  }
 },
 "nbformat": 4,
 "nbformat_minor": 4
}
